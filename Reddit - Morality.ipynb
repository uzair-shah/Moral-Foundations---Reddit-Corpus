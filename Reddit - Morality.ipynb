{
 "cells": [
  {
   "cell_type": "markdown",
   "id": "fd38f128",
   "metadata": {},
   "source": [
    "# Loading Libraries"
   ]
  },
  {
   "cell_type": "code",
   "execution_count": 122,
   "id": "de04eaf5",
   "metadata": {},
   "outputs": [],
   "source": [
    "import pandas as pd\n",
    "import numpy as np\n",
    "import nltk\n",
    "from nltk.tokenize import word_tokenize\n",
    "from nltk import pos_tag\n",
    "from nltk.corpus import stopwords\n",
    "from nltk.stem import WordNetLemmatizer\n",
    "from sklearn.preprocessing import LabelEncoder\n",
    "from collections import defaultdict,Counter\n",
    "from nltk.corpus import wordnet as wn\n",
    "from sklearn.feature_extraction.text import TfidfVectorizer\n",
    "from sklearn import model_selection, naive_bayes, svm\n",
    "from sklearn.metrics import accuracy_score"
   ]
  },
  {
   "cell_type": "code",
   "execution_count": 123,
   "id": "f01602c5",
   "metadata": {},
   "outputs": [],
   "source": [
    "#Setting seed for reproducibility\n",
    "np.random.seed(500)"
   ]
  },
  {
   "cell_type": "markdown",
   "id": "33ad6646",
   "metadata": {},
   "source": [
    "# Reading in the dataset\n"
   ]
  },
  {
   "cell_type": "code",
   "execution_count": 124,
   "id": "4143e33a",
   "metadata": {},
   "outputs": [
    {
     "data": {
      "text/html": [
       "<div>\n",
       "<style scoped>\n",
       "    .dataframe tbody tr th:only-of-type {\n",
       "        vertical-align: middle;\n",
       "    }\n",
       "\n",
       "    .dataframe tbody tr th {\n",
       "        vertical-align: top;\n",
       "    }\n",
       "\n",
       "    .dataframe thead th {\n",
       "        text-align: right;\n",
       "    }\n",
       "</style>\n",
       "<table border=\"1\" class=\"dataframe\">\n",
       "  <thead>\n",
       "    <tr style=\"text-align: right;\">\n",
       "      <th></th>\n",
       "      <th>text</th>\n",
       "      <th>subreddit</th>\n",
       "      <th>bucket</th>\n",
       "      <th>annotator</th>\n",
       "      <th>annotation</th>\n",
       "      <th>confidence</th>\n",
       "    </tr>\n",
       "  </thead>\n",
       "  <tbody>\n",
       "    <tr>\n",
       "      <th>0</th>\n",
       "      <td>That particular part of the debate is especial...</td>\n",
       "      <td>europe</td>\n",
       "      <td>French politics</td>\n",
       "      <td>annotator03</td>\n",
       "      <td>Non-Moral</td>\n",
       "      <td>Confident</td>\n",
       "    </tr>\n",
       "    <tr>\n",
       "      <th>1</th>\n",
       "      <td>That particular part of the debate is especial...</td>\n",
       "      <td>europe</td>\n",
       "      <td>French politics</td>\n",
       "      <td>annotator01</td>\n",
       "      <td>Purity</td>\n",
       "      <td>Confident</td>\n",
       "    </tr>\n",
       "    <tr>\n",
       "      <th>2</th>\n",
       "      <td>That particular part of the debate is especial...</td>\n",
       "      <td>europe</td>\n",
       "      <td>French politics</td>\n",
       "      <td>annotator02</td>\n",
       "      <td>Thin Morality</td>\n",
       "      <td>Confident</td>\n",
       "    </tr>\n",
       "    <tr>\n",
       "      <th>3</th>\n",
       "      <td>/r/france is pretty lively, with it's own ling...</td>\n",
       "      <td>europe</td>\n",
       "      <td>French politics</td>\n",
       "      <td>annotator03</td>\n",
       "      <td>Non-Moral</td>\n",
       "      <td>Confident</td>\n",
       "    </tr>\n",
       "    <tr>\n",
       "      <th>4</th>\n",
       "      <td>/r/france is pretty lively, with it's own ling...</td>\n",
       "      <td>europe</td>\n",
       "      <td>French politics</td>\n",
       "      <td>annotator00</td>\n",
       "      <td>Non-Moral</td>\n",
       "      <td>Somewhat Confident</td>\n",
       "    </tr>\n",
       "  </tbody>\n",
       "</table>\n",
       "</div>"
      ],
      "text/plain": [
       "                                                text subreddit  \\\n",
       "0  That particular part of the debate is especial...    europe   \n",
       "1  That particular part of the debate is especial...    europe   \n",
       "2  That particular part of the debate is especial...    europe   \n",
       "3  /r/france is pretty lively, with it's own ling...    europe   \n",
       "4  /r/france is pretty lively, with it's own ling...    europe   \n",
       "\n",
       "            bucket    annotator     annotation          confidence  \n",
       "0  French politics  annotator03      Non-Moral           Confident  \n",
       "1  French politics  annotator01         Purity           Confident  \n",
       "2  French politics  annotator02  Thin Morality           Confident  \n",
       "3  French politics  annotator03      Non-Moral           Confident  \n",
       "4  French politics  annotator00      Non-Moral  Somewhat Confident  "
      ]
     },
     "execution_count": 124,
     "metadata": {},
     "output_type": "execute_result"
    }
   ],
   "source": [
    "df = pd.read_csv(\"hf://datasets/USC-MOLA-Lab/MFRC/final_mfrc_data.csv\")\n",
    "df.head()"
   ]
  },
  {
   "cell_type": "markdown",
   "id": "f329a307",
   "metadata": {},
   "source": [
    "# Descriptive Statistics"
   ]
  },
  {
   "cell_type": "markdown",
   "id": "71c1bef2",
   "metadata": {},
   "source": [
    "### Unique entry count"
   ]
  },
  {
   "cell_type": "code",
   "execution_count": 125,
   "id": "f664278b",
   "metadata": {},
   "outputs": [
    {
     "name": "stdout",
     "output_type": "stream",
     "text": [
      "There are a total of 61226 out of which there are only 17886 that are unique which means each row is repeated 3.42 times\n"
     ]
    }
   ],
   "source": [
    "unique_count_entries = df['text'].nunique()\n",
    "count_entries = df['text'].count()\n",
    "print(f'There are a total of {count_entries} out of which there are only {unique_count_entries} that are unique which means each\\\n",
    " row is repeated {count_entries/unique_count_entries:.2f} times')"
   ]
  },
  {
   "cell_type": "markdown",
   "id": "b0c3b616",
   "metadata": {},
   "source": [
    "### Identifying unique annotations"
   ]
  },
  {
   "cell_type": "code",
   "execution_count": 126,
   "id": "b7a42425",
   "metadata": {},
   "outputs": [
    {
     "name": "stdout",
     "output_type": "stream",
     "text": [
      "Number of unique ethical frameworks:  8\n",
      "The moral foundations are the following:\n",
      " {'Care', 'Non-Moral', 'Proportionality', 'Purity', 'Thin Morality', 'Loyalty', 'Equality', 'Authority'}\n",
      "The missing foundations are: {'Equality', 'Proportionality', 'Non-Moral', 'Thin Morality'}\n"
     ]
    }
   ],
   "source": [
    "from pprint import pprint\n",
    "\n",
    "annotations = list(df['annotation'].unique())\n",
    "new_annotations = set([word for phrase in annotations for word in phrase.split(',')])\n",
    "original_foundations = set(['Care','Harm',\n",
    "                        'Fairness','Cheating',\n",
    "                        'Loyalty','Betrayal',\n",
    "                        'Authority','Subversion',\n",
    "                        'Purity', 'Degradation'\n",
    "                        ])\n",
    "missing = new_annotations - original_foundations\n",
    "print('Number of unique ethical frameworks: ',len(new_annotations))\n",
    "print('The moral foundations are the following:\\n',new_annotations)\n",
    "print('The missing foundations are:',missing)\n"
   ]
  },
  {
   "cell_type": "markdown",
   "id": "09083bd4",
   "metadata": {},
   "source": [
    "### Counting Annotators\n"
   ]
  },
  {
   "cell_type": "code",
   "execution_count": 127,
   "id": "a75fdafc",
   "metadata": {},
   "outputs": [
    {
     "name": "stdout",
     "output_type": "stream",
     "text": [
      "There are 6 annotators. They are the following:\n",
      "{'annotator05', 'annotator00', 'annotator04', 'annotator03', 'annotator01', 'annotator02'}\n"
     ]
    }
   ],
   "source": [
    "annotator_set = set([annotator for annotator in df['annotator']])\n",
    "print(f'There are {len(annotator_set)} annotators. They are the following:\\n{annotator_set}')"
   ]
  },
  {
   "cell_type": "markdown",
   "id": "51b92e50",
   "metadata": {},
   "source": [
    "### Identifying unique confidence levels"
   ]
  },
  {
   "cell_type": "code",
   "execution_count": 128,
   "id": "3dd9caad",
   "metadata": {},
   "outputs": [
    {
     "name": "stdout",
     "output_type": "stream",
     "text": [
      "There are 4 annotators. They are the following:\n",
      "{nan, 'Somewhat Confident', 'Not Confident', 'Confident'}\n"
     ]
    },
    {
     "data": {
      "text/plain": [
       "{'Not Confident': 1, 'Somewhat Confident': 2, 'Confident': 4}"
      ]
     },
     "execution_count": 128,
     "metadata": {},
     "output_type": "execute_result"
    }
   ],
   "source": [
    "confidence_levels = set([confidence for confidence in df['confidence']])\n",
    "print(f'There are {len(confidence_levels)} annotators. They are the following:\\n{confidence_levels}')\n",
    "\n",
    "\n",
    "confidence_weights = {\n",
    "    'Not Confident' : 1,\n",
    "    'Somewhat Confident' : 2,\n",
    "    'Confident' : 4\n",
    "}\n",
    "confidence_weights"
   ]
  },
  {
   "cell_type": "markdown",
   "id": "cee02f30",
   "metadata": {},
   "source": [
    "### General Descriptive statistics"
   ]
  },
  {
   "cell_type": "code",
   "execution_count": 129,
   "id": "c505e222",
   "metadata": {},
   "outputs": [
    {
     "data": {
      "text/html": [
       "<div>\n",
       "<style scoped>\n",
       "    .dataframe tbody tr th:only-of-type {\n",
       "        vertical-align: middle;\n",
       "    }\n",
       "\n",
       "    .dataframe tbody tr th {\n",
       "        vertical-align: top;\n",
       "    }\n",
       "\n",
       "    .dataframe thead th {\n",
       "        text-align: right;\n",
       "    }\n",
       "</style>\n",
       "<table border=\"1\" class=\"dataframe\">\n",
       "  <thead>\n",
       "    <tr style=\"text-align: right;\">\n",
       "      <th></th>\n",
       "      <th>text</th>\n",
       "      <th>subreddit</th>\n",
       "      <th>bucket</th>\n",
       "      <th>annotator</th>\n",
       "      <th>annotation</th>\n",
       "      <th>confidence</th>\n",
       "    </tr>\n",
       "  </thead>\n",
       "  <tbody>\n",
       "    <tr>\n",
       "      <th>0</th>\n",
       "      <td>That particular part of the debate is especial...</td>\n",
       "      <td>europe</td>\n",
       "      <td>French politics</td>\n",
       "      <td>annotator03</td>\n",
       "      <td>Non-Moral</td>\n",
       "      <td>Confident</td>\n",
       "    </tr>\n",
       "    <tr>\n",
       "      <th>1</th>\n",
       "      <td>That particular part of the debate is especial...</td>\n",
       "      <td>europe</td>\n",
       "      <td>French politics</td>\n",
       "      <td>annotator01</td>\n",
       "      <td>Purity</td>\n",
       "      <td>Confident</td>\n",
       "    </tr>\n",
       "    <tr>\n",
       "      <th>2</th>\n",
       "      <td>That particular part of the debate is especial...</td>\n",
       "      <td>europe</td>\n",
       "      <td>French politics</td>\n",
       "      <td>annotator02</td>\n",
       "      <td>Thin Morality</td>\n",
       "      <td>Confident</td>\n",
       "    </tr>\n",
       "    <tr>\n",
       "      <th>3</th>\n",
       "      <td>/r/france is pretty lively, with it's own ling...</td>\n",
       "      <td>europe</td>\n",
       "      <td>French politics</td>\n",
       "      <td>annotator03</td>\n",
       "      <td>Non-Moral</td>\n",
       "      <td>Confident</td>\n",
       "    </tr>\n",
       "    <tr>\n",
       "      <th>4</th>\n",
       "      <td>/r/france is pretty lively, with it's own ling...</td>\n",
       "      <td>europe</td>\n",
       "      <td>French politics</td>\n",
       "      <td>annotator00</td>\n",
       "      <td>Non-Moral</td>\n",
       "      <td>Somewhat Confident</td>\n",
       "    </tr>\n",
       "  </tbody>\n",
       "</table>\n",
       "</div>"
      ],
      "text/plain": [
       "                                                text subreddit  \\\n",
       "0  That particular part of the debate is especial...    europe   \n",
       "1  That particular part of the debate is especial...    europe   \n",
       "2  That particular part of the debate is especial...    europe   \n",
       "3  /r/france is pretty lively, with it's own ling...    europe   \n",
       "4  /r/france is pretty lively, with it's own ling...    europe   \n",
       "\n",
       "            bucket    annotator     annotation          confidence  \n",
       "0  French politics  annotator03      Non-Moral           Confident  \n",
       "1  French politics  annotator01         Purity           Confident  \n",
       "2  French politics  annotator02  Thin Morality           Confident  \n",
       "3  French politics  annotator03      Non-Moral           Confident  \n",
       "4  French politics  annotator00      Non-Moral  Somewhat Confident  "
      ]
     },
     "execution_count": 129,
     "metadata": {},
     "output_type": "execute_result"
    }
   ],
   "source": [
    "df.head(5)"
   ]
  },
  {
   "cell_type": "code",
   "execution_count": 130,
   "id": "c1243f42",
   "metadata": {},
   "outputs": [
    {
     "name": "stdout",
     "output_type": "stream",
     "text": [
      "<class 'pandas.core.frame.DataFrame'>\n",
      "RangeIndex: 61226 entries, 0 to 61225\n",
      "Data columns (total 6 columns):\n",
      " #   Column      Non-Null Count  Dtype \n",
      "---  ------      --------------  ----- \n",
      " 0   text        61226 non-null  object\n",
      " 1   subreddit   61226 non-null  object\n",
      " 2   bucket      61226 non-null  object\n",
      " 3   annotator   61226 non-null  object\n",
      " 4   annotation  61226 non-null  object\n",
      " 5   confidence  61184 non-null  object\n",
      "dtypes: object(6)\n",
      "memory usage: 2.8+ MB\n",
      "None\n"
     ]
    },
    {
     "data": {
      "text/html": [
       "<div>\n",
       "<style scoped>\n",
       "    .dataframe tbody tr th:only-of-type {\n",
       "        vertical-align: middle;\n",
       "    }\n",
       "\n",
       "    .dataframe tbody tr th {\n",
       "        vertical-align: top;\n",
       "    }\n",
       "\n",
       "    .dataframe thead th {\n",
       "        text-align: right;\n",
       "    }\n",
       "</style>\n",
       "<table border=\"1\" class=\"dataframe\">\n",
       "  <thead>\n",
       "    <tr style=\"text-align: right;\">\n",
       "      <th></th>\n",
       "      <th>text</th>\n",
       "      <th>subreddit</th>\n",
       "      <th>bucket</th>\n",
       "      <th>annotator</th>\n",
       "      <th>annotation</th>\n",
       "      <th>confidence</th>\n",
       "    </tr>\n",
       "  </thead>\n",
       "  <tbody>\n",
       "    <tr>\n",
       "      <th>count</th>\n",
       "      <td>61226</td>\n",
       "      <td>61226</td>\n",
       "      <td>61226</td>\n",
       "      <td>61226</td>\n",
       "      <td>61226</td>\n",
       "      <td>61184</td>\n",
       "    </tr>\n",
       "    <tr>\n",
       "      <th>unique</th>\n",
       "      <td>17886</td>\n",
       "      <td>11</td>\n",
       "      <td>3</td>\n",
       "      <td>6</td>\n",
       "      <td>128</td>\n",
       "      <td>3</td>\n",
       "    </tr>\n",
       "    <tr>\n",
       "      <th>top</th>\n",
       "      <td>༼ つ ◕_◕ ༽つ MACRON TAKE MY ENERGY ༼ つ ◕_◕ ༽つ</td>\n",
       "      <td>europe</td>\n",
       "      <td>French politics</td>\n",
       "      <td>annotator04</td>\n",
       "      <td>Non-Moral</td>\n",
       "      <td>Confident</td>\n",
       "    </tr>\n",
       "    <tr>\n",
       "      <th>freq</th>\n",
       "      <td>11</td>\n",
       "      <td>9281</td>\n",
       "      <td>25079</td>\n",
       "      <td>11988</td>\n",
       "      <td>30770</td>\n",
       "      <td>44737</td>\n",
       "    </tr>\n",
       "  </tbody>\n",
       "</table>\n",
       "</div>"
      ],
      "text/plain": [
       "                                               text subreddit  \\\n",
       "count                                         61226     61226   \n",
       "unique                                        17886        11   \n",
       "top     ༼ つ ◕_◕ ༽つ MACRON TAKE MY ENERGY ༼ つ ◕_◕ ༽つ    europe   \n",
       "freq                                             11      9281   \n",
       "\n",
       "                 bucket    annotator annotation confidence  \n",
       "count             61226        61226      61226      61184  \n",
       "unique                3            6        128          3  \n",
       "top     French politics  annotator04  Non-Moral  Confident  \n",
       "freq              25079        11988      30770      44737  "
      ]
     },
     "execution_count": 130,
     "metadata": {},
     "output_type": "execute_result"
    }
   ],
   "source": [
    "print(df.info())\n",
    "df.describe()"
   ]
  },
  {
   "cell_type": "markdown",
   "id": "8c79c2cf",
   "metadata": {},
   "source": [
    "# Transforming the dataset: "
   ]
  },
  {
   "cell_type": "markdown",
   "id": "883df673",
   "metadata": {},
   "source": [
    "### Adding unique annotations as columns in the dataset "
   ]
  },
  {
   "cell_type": "code",
   "execution_count": 131,
   "id": "508b53e4",
   "metadata": {},
   "outputs": [],
   "source": [
    "labels = ['Purity', 'Loyalty', 'Care', 'Proportionality', 'Thin Morality', 'Authority', 'Equality', 'Non-Moral']\n",
    "df1 = df.copy()\n",
    "# Initialize the columns with zeros if not already present\n",
    "for label in labels:\n",
    "    if label not in df1.columns:\n",
    "        df1[label] = 0\n"
   ]
  },
  {
   "cell_type": "code",
   "execution_count": 132,
   "id": "322c47fa",
   "metadata": {},
   "outputs": [],
   "source": [
    "for row_num, row in enumerate(df['annotation']):\n",
    "    annotations = [a.strip() for a in row.split(',')]\n",
    "    for label in labels:\n",
    "        if label in annotations:\n",
    "            df1.at[row_num, label] += 1"
   ]
  },
  {
   "cell_type": "markdown",
   "id": "bef825e8",
   "metadata": {},
   "source": [
    "### Adding effect of Confidence Weights to data"
   ]
  },
  {
   "cell_type": "code",
   "execution_count": 133,
   "id": "df5bb161",
   "metadata": {},
   "outputs": [],
   "source": [
    "# Removing rows where confidence is null\n",
    "df2 = df1.copy()\n",
    "df2 = df2.loc[-df2['confidence'].isna() == True]"
   ]
  },
  {
   "cell_type": "code",
   "execution_count": 134,
   "id": "8e6bb287",
   "metadata": {},
   "outputs": [],
   "source": [
    "labels = ['Purity', 'Loyalty', 'Care', 'Proportionality', 'Thin Morality', 'Authority', 'Equality', 'Non-Moral']\n",
    "\n",
    "# Map confidence values to weights as a Series -> Vectorizing the weights \n",
    "weights = df2.iloc[:, 5].map(confidence_weights)\n",
    "\n",
    "# Apply weights to each column directly\n",
    "for label in labels:\n",
    "    df2[label] *= weights"
   ]
  },
  {
   "cell_type": "code",
   "execution_count": 135,
   "id": "b3a0a93f",
   "metadata": {},
   "outputs": [
    {
     "data": {
      "text/html": [
       "<div>\n",
       "<style scoped>\n",
       "    .dataframe tbody tr th:only-of-type {\n",
       "        vertical-align: middle;\n",
       "    }\n",
       "\n",
       "    .dataframe tbody tr th {\n",
       "        vertical-align: top;\n",
       "    }\n",
       "\n",
       "    .dataframe thead th {\n",
       "        text-align: right;\n",
       "    }\n",
       "</style>\n",
       "<table border=\"1\" class=\"dataframe\">\n",
       "  <thead>\n",
       "    <tr style=\"text-align: right;\">\n",
       "      <th></th>\n",
       "      <th>text</th>\n",
       "      <th>subreddit</th>\n",
       "      <th>bucket</th>\n",
       "      <th>annotator</th>\n",
       "      <th>annotation</th>\n",
       "      <th>confidence</th>\n",
       "      <th>Purity</th>\n",
       "      <th>Loyalty</th>\n",
       "      <th>Care</th>\n",
       "      <th>Proportionality</th>\n",
       "      <th>Thin Morality</th>\n",
       "      <th>Authority</th>\n",
       "      <th>Equality</th>\n",
       "      <th>Non-Moral</th>\n",
       "    </tr>\n",
       "  </thead>\n",
       "  <tbody>\n",
       "    <tr>\n",
       "      <th>0</th>\n",
       "      <td>\\n\\nDr. Robert Jay Lifton, distinguished profe...</td>\n",
       "      <td>politics</td>\n",
       "      <td>US PoliticsUS PoliticsUS Politics</td>\n",
       "      <td>annotator04annotator00annotator02</td>\n",
       "      <td>AuthorityThin MoralityNon-Moral</td>\n",
       "      <td>ConfidentNot ConfidentConfident</td>\n",
       "      <td>0</td>\n",
       "      <td>0</td>\n",
       "      <td>0</td>\n",
       "      <td>0</td>\n",
       "      <td>1</td>\n",
       "      <td>4</td>\n",
       "      <td>0</td>\n",
       "      <td>4</td>\n",
       "    </tr>\n",
       "    <tr>\n",
       "      <th>1</th>\n",
       "      <td>\\n\\nIf you prefer not to click on Daily Mail s...</td>\n",
       "      <td>worldnews</td>\n",
       "      <td>French politicsFrench politicsFrench politicsF...</td>\n",
       "      <td>annotator01annotator00annotator02annotator02</td>\n",
       "      <td>Non-MoralNon-MoralNon-MoralNon-Moral</td>\n",
       "      <td>ConfidentConfidentConfidentConfident</td>\n",
       "      <td>0</td>\n",
       "      <td>0</td>\n",
       "      <td>0</td>\n",
       "      <td>0</td>\n",
       "      <td>0</td>\n",
       "      <td>0</td>\n",
       "      <td>0</td>\n",
       "      <td>16</td>\n",
       "    </tr>\n",
       "    <tr>\n",
       "      <th>2</th>\n",
       "      <td>\\n&amp;gt;Ben Judah details Emmanuel Macron's nasc...</td>\n",
       "      <td>geopolitics</td>\n",
       "      <td>French politicsFrench politicsFrench politicsF...</td>\n",
       "      <td>annotator04annotator01annotator00annotator01</td>\n",
       "      <td>ProportionalityAuthorityAuthorityAuthority</td>\n",
       "      <td>ConfidentConfidentNot ConfidentConfident</td>\n",
       "      <td>0</td>\n",
       "      <td>0</td>\n",
       "      <td>0</td>\n",
       "      <td>4</td>\n",
       "      <td>0</td>\n",
       "      <td>9</td>\n",
       "      <td>0</td>\n",
       "      <td>0</td>\n",
       "    </tr>\n",
       "    <tr>\n",
       "      <th>3</th>\n",
       "      <td>\\n&amp;gt;Ergo, he supports Macron but doesn't wan...</td>\n",
       "      <td>neoliberal</td>\n",
       "      <td>French politicsFrench politicsFrench politics</td>\n",
       "      <td>annotator03annotator04annotator02</td>\n",
       "      <td>Thin MoralityLoyaltyNon-Moral</td>\n",
       "      <td>Somewhat ConfidentConfidentConfident</td>\n",
       "      <td>0</td>\n",
       "      <td>4</td>\n",
       "      <td>0</td>\n",
       "      <td>0</td>\n",
       "      <td>2</td>\n",
       "      <td>0</td>\n",
       "      <td>0</td>\n",
       "      <td>4</td>\n",
       "    </tr>\n",
       "    <tr>\n",
       "      <th>4</th>\n",
       "      <td>\\n&amp;gt;He looks exactly the same in Richie Rich...</td>\n",
       "      <td>nostalgia</td>\n",
       "      <td>Everyday MoralityEveryday MoralityEveryday Mor...</td>\n",
       "      <td>annotator03annotator04annotator02</td>\n",
       "      <td>Non-MoralThin MoralityNon-Moral</td>\n",
       "      <td>ConfidentConfidentConfident</td>\n",
       "      <td>0</td>\n",
       "      <td>0</td>\n",
       "      <td>0</td>\n",
       "      <td>0</td>\n",
       "      <td>4</td>\n",
       "      <td>0</td>\n",
       "      <td>0</td>\n",
       "      <td>8</td>\n",
       "    </tr>\n",
       "  </tbody>\n",
       "</table>\n",
       "</div>"
      ],
      "text/plain": [
       "                                                text    subreddit  \\\n",
       "0  \\n\\nDr. Robert Jay Lifton, distinguished profe...     politics   \n",
       "1  \\n\\nIf you prefer not to click on Daily Mail s...    worldnews   \n",
       "2  \\n&gt;Ben Judah details Emmanuel Macron's nasc...  geopolitics   \n",
       "3  \\n&gt;Ergo, he supports Macron but doesn't wan...   neoliberal   \n",
       "4  \\n&gt;He looks exactly the same in Richie Rich...    nostalgia   \n",
       "\n",
       "                                              bucket  \\\n",
       "0                  US PoliticsUS PoliticsUS Politics   \n",
       "1  French politicsFrench politicsFrench politicsF...   \n",
       "2  French politicsFrench politicsFrench politicsF...   \n",
       "3      French politicsFrench politicsFrench politics   \n",
       "4  Everyday MoralityEveryday MoralityEveryday Mor...   \n",
       "\n",
       "                                      annotator  \\\n",
       "0             annotator04annotator00annotator02   \n",
       "1  annotator01annotator00annotator02annotator02   \n",
       "2  annotator04annotator01annotator00annotator01   \n",
       "3             annotator03annotator04annotator02   \n",
       "4             annotator03annotator04annotator02   \n",
       "\n",
       "                                   annotation  \\\n",
       "0             AuthorityThin MoralityNon-Moral   \n",
       "1        Non-MoralNon-MoralNon-MoralNon-Moral   \n",
       "2  ProportionalityAuthorityAuthorityAuthority   \n",
       "3               Thin MoralityLoyaltyNon-Moral   \n",
       "4             Non-MoralThin MoralityNon-Moral   \n",
       "\n",
       "                                 confidence  Purity  Loyalty  Care  \\\n",
       "0           ConfidentNot ConfidentConfident       0        0     0   \n",
       "1      ConfidentConfidentConfidentConfident       0        0     0   \n",
       "2  ConfidentConfidentNot ConfidentConfident       0        0     0   \n",
       "3      Somewhat ConfidentConfidentConfident       0        4     0   \n",
       "4               ConfidentConfidentConfident       0        0     0   \n",
       "\n",
       "   Proportionality  Thin Morality  Authority  Equality  Non-Moral  \n",
       "0                0              1          4         0          4  \n",
       "1                0              0          0         0         16  \n",
       "2                4              0          9         0          0  \n",
       "3                0              2          0         0          4  \n",
       "4                0              4          0         0          8  "
      ]
     },
     "execution_count": 135,
     "metadata": {},
     "output_type": "execute_result"
    }
   ],
   "source": [
    "# Creating dataframe to sum up annotator votes \n",
    "df3 = df2.groupby(['text','subreddit']).sum()\n",
    "df3 = df3.reset_index(['text','subreddit']) #resetting index to make everything into a column\n",
    "df3.head(5)"
   ]
  },
  {
   "cell_type": "code",
   "execution_count": 136,
   "id": "f69e83dc",
   "metadata": {},
   "outputs": [],
   "source": [
    "labels = ['Purity', 'Loyalty', 'Care', 'Proportionality', 'Thin Morality', 'Authority', 'Equality', 'Non-Moral']\n",
    "\n",
    "# Get the name of the column with the highest value across the specified columns\n",
    "# first class with the highest vote based on which column comes first\n",
    "df3['Moral Foundation'] = df3[labels].idxmax(axis=1)\n"
   ]
  },
  {
   "cell_type": "code",
   "execution_count": 137,
   "id": "99061119",
   "metadata": {},
   "outputs": [
    {
     "data": {
      "text/html": [
       "<div>\n",
       "<style scoped>\n",
       "    .dataframe tbody tr th:only-of-type {\n",
       "        vertical-align: middle;\n",
       "    }\n",
       "\n",
       "    .dataframe tbody tr th {\n",
       "        vertical-align: top;\n",
       "    }\n",
       "\n",
       "    .dataframe thead th {\n",
       "        text-align: right;\n",
       "    }\n",
       "</style>\n",
       "<table border=\"1\" class=\"dataframe\">\n",
       "  <thead>\n",
       "    <tr style=\"text-align: right;\">\n",
       "      <th></th>\n",
       "      <th>text</th>\n",
       "      <th>subreddit</th>\n",
       "      <th>bucket</th>\n",
       "      <th>annotator</th>\n",
       "      <th>annotation</th>\n",
       "      <th>confidence</th>\n",
       "      <th>Purity</th>\n",
       "      <th>Loyalty</th>\n",
       "      <th>Care</th>\n",
       "      <th>Proportionality</th>\n",
       "      <th>Thin Morality</th>\n",
       "      <th>Authority</th>\n",
       "      <th>Equality</th>\n",
       "      <th>Non-Moral</th>\n",
       "      <th>Moral Foundation</th>\n",
       "    </tr>\n",
       "  </thead>\n",
       "  <tbody>\n",
       "    <tr>\n",
       "      <th>0</th>\n",
       "      <td>\\n\\nDr. Robert Jay Lifton, distinguished profe...</td>\n",
       "      <td>politics</td>\n",
       "      <td>US PoliticsUS PoliticsUS Politics</td>\n",
       "      <td>annotator04annotator00annotator02</td>\n",
       "      <td>AuthorityThin MoralityNon-Moral</td>\n",
       "      <td>ConfidentNot ConfidentConfident</td>\n",
       "      <td>0</td>\n",
       "      <td>0</td>\n",
       "      <td>0</td>\n",
       "      <td>0</td>\n",
       "      <td>1</td>\n",
       "      <td>4</td>\n",
       "      <td>0</td>\n",
       "      <td>4</td>\n",
       "      <td>Authority</td>\n",
       "    </tr>\n",
       "    <tr>\n",
       "      <th>1</th>\n",
       "      <td>\\n\\nIf you prefer not to click on Daily Mail s...</td>\n",
       "      <td>worldnews</td>\n",
       "      <td>French politicsFrench politicsFrench politicsF...</td>\n",
       "      <td>annotator01annotator00annotator02annotator02</td>\n",
       "      <td>Non-MoralNon-MoralNon-MoralNon-Moral</td>\n",
       "      <td>ConfidentConfidentConfidentConfident</td>\n",
       "      <td>0</td>\n",
       "      <td>0</td>\n",
       "      <td>0</td>\n",
       "      <td>0</td>\n",
       "      <td>0</td>\n",
       "      <td>0</td>\n",
       "      <td>0</td>\n",
       "      <td>16</td>\n",
       "      <td>Non-Moral</td>\n",
       "    </tr>\n",
       "    <tr>\n",
       "      <th>2</th>\n",
       "      <td>\\n&amp;gt;Ben Judah details Emmanuel Macron's nasc...</td>\n",
       "      <td>geopolitics</td>\n",
       "      <td>French politicsFrench politicsFrench politicsF...</td>\n",
       "      <td>annotator04annotator01annotator00annotator01</td>\n",
       "      <td>ProportionalityAuthorityAuthorityAuthority</td>\n",
       "      <td>ConfidentConfidentNot ConfidentConfident</td>\n",
       "      <td>0</td>\n",
       "      <td>0</td>\n",
       "      <td>0</td>\n",
       "      <td>4</td>\n",
       "      <td>0</td>\n",
       "      <td>9</td>\n",
       "      <td>0</td>\n",
       "      <td>0</td>\n",
       "      <td>Authority</td>\n",
       "    </tr>\n",
       "    <tr>\n",
       "      <th>3</th>\n",
       "      <td>\\n&amp;gt;Ergo, he supports Macron but doesn't wan...</td>\n",
       "      <td>neoliberal</td>\n",
       "      <td>French politicsFrench politicsFrench politics</td>\n",
       "      <td>annotator03annotator04annotator02</td>\n",
       "      <td>Thin MoralityLoyaltyNon-Moral</td>\n",
       "      <td>Somewhat ConfidentConfidentConfident</td>\n",
       "      <td>0</td>\n",
       "      <td>4</td>\n",
       "      <td>0</td>\n",
       "      <td>0</td>\n",
       "      <td>2</td>\n",
       "      <td>0</td>\n",
       "      <td>0</td>\n",
       "      <td>4</td>\n",
       "      <td>Loyalty</td>\n",
       "    </tr>\n",
       "    <tr>\n",
       "      <th>4</th>\n",
       "      <td>\\n&amp;gt;He looks exactly the same in Richie Rich...</td>\n",
       "      <td>nostalgia</td>\n",
       "      <td>Everyday MoralityEveryday MoralityEveryday Mor...</td>\n",
       "      <td>annotator03annotator04annotator02</td>\n",
       "      <td>Non-MoralThin MoralityNon-Moral</td>\n",
       "      <td>ConfidentConfidentConfident</td>\n",
       "      <td>0</td>\n",
       "      <td>0</td>\n",
       "      <td>0</td>\n",
       "      <td>0</td>\n",
       "      <td>4</td>\n",
       "      <td>0</td>\n",
       "      <td>0</td>\n",
       "      <td>8</td>\n",
       "      <td>Non-Moral</td>\n",
       "    </tr>\n",
       "  </tbody>\n",
       "</table>\n",
       "</div>"
      ],
      "text/plain": [
       "                                                text    subreddit  \\\n",
       "0  \\n\\nDr. Robert Jay Lifton, distinguished profe...     politics   \n",
       "1  \\n\\nIf you prefer not to click on Daily Mail s...    worldnews   \n",
       "2  \\n&gt;Ben Judah details Emmanuel Macron's nasc...  geopolitics   \n",
       "3  \\n&gt;Ergo, he supports Macron but doesn't wan...   neoliberal   \n",
       "4  \\n&gt;He looks exactly the same in Richie Rich...    nostalgia   \n",
       "\n",
       "                                              bucket  \\\n",
       "0                  US PoliticsUS PoliticsUS Politics   \n",
       "1  French politicsFrench politicsFrench politicsF...   \n",
       "2  French politicsFrench politicsFrench politicsF...   \n",
       "3      French politicsFrench politicsFrench politics   \n",
       "4  Everyday MoralityEveryday MoralityEveryday Mor...   \n",
       "\n",
       "                                      annotator  \\\n",
       "0             annotator04annotator00annotator02   \n",
       "1  annotator01annotator00annotator02annotator02   \n",
       "2  annotator04annotator01annotator00annotator01   \n",
       "3             annotator03annotator04annotator02   \n",
       "4             annotator03annotator04annotator02   \n",
       "\n",
       "                                   annotation  \\\n",
       "0             AuthorityThin MoralityNon-Moral   \n",
       "1        Non-MoralNon-MoralNon-MoralNon-Moral   \n",
       "2  ProportionalityAuthorityAuthorityAuthority   \n",
       "3               Thin MoralityLoyaltyNon-Moral   \n",
       "4             Non-MoralThin MoralityNon-Moral   \n",
       "\n",
       "                                 confidence  Purity  Loyalty  Care  \\\n",
       "0           ConfidentNot ConfidentConfident       0        0     0   \n",
       "1      ConfidentConfidentConfidentConfident       0        0     0   \n",
       "2  ConfidentConfidentNot ConfidentConfident       0        0     0   \n",
       "3      Somewhat ConfidentConfidentConfident       0        4     0   \n",
       "4               ConfidentConfidentConfident       0        0     0   \n",
       "\n",
       "   Proportionality  Thin Morality  Authority  Equality  Non-Moral  \\\n",
       "0                0              1          4         0          4   \n",
       "1                0              0          0         0         16   \n",
       "2                4              0          9         0          0   \n",
       "3                0              2          0         0          4   \n",
       "4                0              4          0         0          8   \n",
       "\n",
       "  Moral Foundation  \n",
       "0        Authority  \n",
       "1        Non-Moral  \n",
       "2        Authority  \n",
       "3          Loyalty  \n",
       "4        Non-Moral  "
      ]
     },
     "execution_count": 137,
     "metadata": {},
     "output_type": "execute_result"
    }
   ],
   "source": [
    "df3.head()"
   ]
  },
  {
   "cell_type": "code",
   "execution_count": 144,
   "id": "972d24fa",
   "metadata": {},
   "outputs": [
    {
     "data": {
      "image/png": "[encoded data removed]",
      "text/plain": [
       "<Figure size 640x480 with 1 Axes>"
      ]
     },
     "metadata": {},
     "output_type": "display_data"
    }
   ],
   "source": [
    "from matplotlib import pyplot as plt\n",
    "\n",
    "a = dict(df3['Moral Foundation'].value_counts())\n",
    "plt.bar(a.keys(), a.values(),width = 0.5, color='b')\n",
    "plt.xticks(rotation=90)\n",
    "plt.tight_layout()\n",
    "plt.show()"
   ]
  },
  {
   "cell_type": "code",
   "execution_count": 139,
   "id": "a3bdc3c4",
   "metadata": {},
   "outputs": [],
   "source": [
    "# Lower case sentences for easier identification by model\n",
    "df3['text'] = [entry.lower() for entry in df3['text']]\n",
    "# Tokenization of words\n",
    "df3['text']= [word_tokenize(entry) for entry in df3['text']]\n",
    "# Mapping the words into adjectives, verbs or adverbs \n",
    "tag_map = defaultdict(lambda : wn.NOUN) # wn is word net\n",
    "tag_map['J'] = wn.ADJ\n",
    "tag_map['V'] = wn.VERB\n",
    "tag_map['R'] = wn.ADV\n",
    "\n",
    "tag_map\n",
    "\n",
    "# Lemmatizing the words and giving them values for their positions \n",
    "\n",
    "for index,entry in enumerate(df3['text']):\n",
    "    Final_words = []\n",
    "    word_Lemmatized = WordNetLemmatizer()\n",
    "    for word, tag in pos_tag(entry):\n",
    "        if word not in stopwords.words('english') and word.isalpha():\n",
    "            word_Final = word_Lemmatized.lemmatize(word,tag_map[tag[0]]) \n",
    "            #tag_map is a dictionary in which we have categorized if JJ is an adjective or not, tag[0] accesses the first part of JJ ie J\n",
    "            Final_words.append(word_Final)\n",
    "    df3.loc[index,'text_final'] = str(Final_words) #adding information back to original dataframe"
   ]
  },
  {
   "cell_type": "markdown",
   "id": "8d031fe4",
   "metadata": {},
   "source": [
    "# Train Test Split "
   ]
  },
  {
   "cell_type": "code",
   "execution_count": 140,
   "id": "f735dfd8",
   "metadata": {},
   "outputs": [],
   "source": [
    "\n",
    "Train_X, Test_X, Train_Y, Test_Y = model_selection.train_test_split(df3['text_final'],df3['Moral Foundation'],test_size=0.3)\n",
    "\n",
    "#Encoding variables for machine understanding\n",
    "Encoder = LabelEncoder()\n",
    "Train_Y = Encoder.fit_transform(Train_Y)\n",
    "Test_Y = Encoder.fit_transform(Test_Y)\n",
    "\n",
    "Tfidf_vect = TfidfVectorizer(max_features=5000)\n",
    "Tfidf_vect.fit(df3['text_final'])\n",
    "\n",
    "Train_X_Tfidf = Tfidf_vect.transform(Train_X)\n",
    "Test_X_Tfidf = Tfidf_vect.transform(Test_X)\n"
   ]
  },
  {
   "cell_type": "markdown",
   "id": "7516123b",
   "metadata": {},
   "source": [
    "# Using different Classifiers"
   ]
  },
  {
   "cell_type": "markdown",
   "id": "1cda4f83",
   "metadata": {},
   "source": [
    "## Naive Baye's classifier"
   ]
  },
  {
   "cell_type": "code",
   "execution_count": 141,
   "id": "8430296c",
   "metadata": {},
   "outputs": [
    {
     "name": "stdout",
     "output_type": "stream",
     "text": [
      "Naive Bayes Accuracy Score % ->  55.124860231084604 %\n"
     ]
    }
   ],
   "source": [
    "# fit the training dataset on the NB classifier\n",
    "Naive = naive_bayes.MultinomialNB()\n",
    "Naive.fit(Train_X_Tfidf,Train_Y)\n",
    "\n",
    "# predict the labels on validation dataset\n",
    "predictions_NB = Naive.predict(Test_X_Tfidf)\n",
    "\n",
    "# Use accuracy_score function to get the accuracy\n",
    "print(\"Naive Bayes Accuracy Score % -> \",accuracy_score(predictions_NB, Test_Y)*100,'%')"
   ]
  },
  {
   "cell_type": "markdown",
   "id": "15edd52d",
   "metadata": {},
   "source": [
    "## SVM Classifier\n"
   ]
  },
  {
   "cell_type": "code",
   "execution_count": 142,
   "id": "8c0bc678",
   "metadata": {},
   "outputs": [],
   "source": [
    "# fit the training dataset on the classifier\n",
    "SVM = svm.SVC(C=1.0, kernel='linear', degree=3, gamma='auto')\n",
    "SVM.fit(Train_X_Tfidf,Train_Y)\n",
    "\n",
    "# predict the labels on validation dataset\n",
    "predictions_SVM = SVM.predict(Test_X_Tfidf)"
   ]
  },
  {
   "cell_type": "code",
   "execution_count": 143,
   "id": "3f8ca31c",
   "metadata": {},
   "outputs": [
    {
     "name": "stdout",
     "output_type": "stream",
     "text": [
      "SVM Accuracy Score ->  59.690644800596345 %\n"
     ]
    }
   ],
   "source": [
    "# Use accuracy_score function to get the accuracy\n",
    "print(\"SVM Accuracy Score -> \",accuracy_score(predictions_SVM, Test_Y)*100,'%')"
   ]
  }
 ],
 "metadata": {
  "kernelspec": {
   "display_name": ".env",
   "language": "python",
   "name": "python3"
  },
  "language_info": {
   "codemirror_mode": {
    "name": "ipython",
    "version": 3
   },
   "file_extension": ".py",
   "mimetype": "text/x-python",
   "name": "python",
   "nbconvert_exporter": "python",
   "pygments_lexer": "ipython3",
   "version": "3.12.4"
  }
 },
 "nbformat": 4,
 "nbformat_minor": 5
}
